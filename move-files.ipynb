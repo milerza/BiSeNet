{
 "cells": [
  {
   "cell_type": "code",
   "execution_count": 4,
   "id": "7ff90cdb-9e2a-4dd0-ba5c-487c2616dba9",
   "metadata": {},
   "outputs": [],
   "source": [
    "import os\n",
    "import random\n",
    "import shutil\n",
    "from PIL import Image\n"
   ]
  },
  {
   "cell_type": "code",
   "execution_count": 5,
   "id": "2872f135-d340-430a-a08b-e058d865f29f",
   "metadata": {},
   "outputs": [
    {
     "name": "stdout",
     "output_type": "stream",
     "text": [
      "[Errno 17] File exists: 'dataset/train'\n",
      "[Errno 17] File exists: 'dataset/val'\n",
      "[Errno 17] File exists: 'dataset/test'\n"
     ]
    }
   ],
   "source": [
    "for x,y in [['train', 0.6], ['val',0.5], ['test', 1]]:\n",
    "    source = 'data/imgs'\n",
    "    source_mask = 'data/masks'\n",
    "    dest = f'dataset/{x}'\n",
    "    dest_mask = f'dataset/{x}_label'\n",
    "    files = os.listdir(source)\n",
    "    no_of_files = int(len(files) * y)\n",
    "\n",
    "    try:  \n",
    "        os.mkdir(dest)  \n",
    "        os.mkdir(dest_mask)  \n",
    "    except OSError as error:  \n",
    "        print(error)  \n",
    "    \n",
    "    for file_name in random.sample(files, no_of_files):\n",
    "        shutil.move(os.path.join(source, file_name), dest)\n",
    "        shutil.move(os.path.join(source_mask, file_name), dest_mask)\n",
    "    "
   ]
  },
  {
   "cell_type": "code",
   "execution_count": null,
   "id": "9687c0f6-603f-4687-b1ff-a9fcd9d78d1f",
   "metadata": {},
   "outputs": [],
   "source": [
    "\n",
    "    "
   ]
  },
  {
   "cell_type": "code",
   "execution_count": null,
   "id": "19ae5717-07b7-4714-a5ff-0e05d4638ce6",
   "metadata": {},
   "outputs": [],
   "source": []
  }
 ],
 "metadata": {
  "kernelspec": {
   "display_name": "Python 3 (ipykernel)",
   "language": "python",
   "name": "python3"
  },
  "language_info": {
   "codemirror_mode": {
    "name": "ipython",
    "version": 3
   },
   "file_extension": ".py",
   "mimetype": "text/x-python",
   "name": "python",
   "nbconvert_exporter": "python",
   "pygments_lexer": "ipython3",
   "version": "3.10.14"
  }
 },
 "nbformat": 4,
 "nbformat_minor": 5
}
